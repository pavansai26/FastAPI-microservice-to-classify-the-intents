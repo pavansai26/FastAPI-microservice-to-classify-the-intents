{
  "nbformat": 4,
  "nbformat_minor": 0,
  "metadata": {
    "colab": {
      "provenance": [],
      "authorship_tag": "ABX9TyMUMY/Z//uaWsgg2Gte9IWi",
      "include_colab_link": true
    },
    "kernelspec": {
      "name": "python3",
      "display_name": "Python 3"
    },
    "language_info": {
      "name": "python"
    }
  },
  "cells": [
    {
      "cell_type": "markdown",
      "metadata": {
        "id": "view-in-github",
        "colab_type": "text"
      },
      "source": [
        "<a href=\"https://colab.research.google.com/github/pavansai26/FastAPI-microservice-to-classify-the-intents/blob/main/FastAPI_microservice_to_classify_the_intents_.ipynb\" target=\"_parent\"><img src=\"https://colab.research.google.com/assets/colab-badge.svg\" alt=\"Open In Colab\"/></a>"
      ]
    },
    {
      "cell_type": "markdown",
      "source": [
        "how to create a FastAPI microservice that uses the Universal Sentence Encoder model to classify the intent of input sentences"
      ],
      "metadata": {
        "id": "rBC01yVMBUiv"
      }
    },
    {
      "cell_type": "markdown",
      "source": [
        "First, you need to install the fastapi, uvicorn, and pydantic libraries using pip:\n",
        "\n"
      ],
      "metadata": {
        "id": "EO_LXGvfBePk"
      }
    },
    {
      "cell_type": "code",
      "execution_count": 1,
      "metadata": {
        "colab": {
          "base_uri": "https://localhost:8080/"
        },
        "id": "6XPqpOLzAP3i",
        "outputId": "93336e21-9f97-4d29-b972-5db3a5b2716b"
      },
      "outputs": [
        {
          "output_type": "stream",
          "name": "stdout",
          "text": [
            "Looking in indexes: https://pypi.org/simple, https://us-python.pkg.dev/colab-wheels/public/simple/\n",
            "Collecting fastapi\n",
            "  Downloading fastapi-0.95.0-py3-none-any.whl (57 kB)\n",
            "\u001b[2K     \u001b[90m━━━━━━━━━━━━━━━━━━━━━━━━━━━━━━━━━━━━━━━━\u001b[0m \u001b[32m57.1/57.1 KB\u001b[0m \u001b[31m2.9 MB/s\u001b[0m eta \u001b[36m0:00:00\u001b[0m\n",
            "\u001b[?25hCollecting uvicorn\n",
            "  Downloading uvicorn-0.21.1-py3-none-any.whl (57 kB)\n",
            "\u001b[2K     \u001b[90m━━━━━━━━━━━━━━━━━━━━━━━━━━━━━━━━━━━━━━━━\u001b[0m \u001b[32m57.8/57.8 KB\u001b[0m \u001b[31m5.9 MB/s\u001b[0m eta \u001b[36m0:00:00\u001b[0m\n",
            "\u001b[?25hRequirement already satisfied: pydantic in /usr/local/lib/python3.9/dist-packages (1.10.7)\n",
            "Collecting pymongo\n",
            "  Downloading pymongo-4.3.3-cp39-cp39-manylinux_2_17_x86_64.manylinux2014_x86_64.whl (492 kB)\n",
            "\u001b[2K     \u001b[90m━━━━━━━━━━━━━━━━━━━━━━━━━━━━━━━━━━━━━━\u001b[0m \u001b[32m492.1/492.1 KB\u001b[0m \u001b[31m29.3 MB/s\u001b[0m eta \u001b[36m0:00:00\u001b[0m\n",
            "\u001b[?25hCollecting starlette<0.27.0,>=0.26.1\n",
            "  Downloading starlette-0.26.1-py3-none-any.whl (66 kB)\n",
            "\u001b[2K     \u001b[90m━━━━━━━━━━━━━━━━━━━━━━━━━━━━━━━━━━━━━━━━\u001b[0m \u001b[32m66.9/66.9 KB\u001b[0m \u001b[31m7.7 MB/s\u001b[0m eta \u001b[36m0:00:00\u001b[0m\n",
            "\u001b[?25hCollecting h11>=0.8\n",
            "  Downloading h11-0.14.0-py3-none-any.whl (58 kB)\n",
            "\u001b[2K     \u001b[90m━━━━━━━━━━━━━━━━━━━━━━━━━━━━━━━━━━━━━━━━\u001b[0m \u001b[32m58.3/58.3 KB\u001b[0m \u001b[31m6.7 MB/s\u001b[0m eta \u001b[36m0:00:00\u001b[0m\n",
            "\u001b[?25hRequirement already satisfied: click>=7.0 in /usr/local/lib/python3.9/dist-packages (from uvicorn) (8.1.3)\n",
            "Requirement already satisfied: typing-extensions>=4.2.0 in /usr/local/lib/python3.9/dist-packages (from pydantic) (4.5.0)\n",
            "Collecting dnspython<3.0.0,>=1.16.0\n",
            "  Downloading dnspython-2.3.0-py3-none-any.whl (283 kB)\n",
            "\u001b[2K     \u001b[90m━━━━━━━━━━━━━━━━━━━━━━━━━━━━━━━━━━━━━━\u001b[0m \u001b[32m283.7/283.7 KB\u001b[0m \u001b[31m27.8 MB/s\u001b[0m eta \u001b[36m0:00:00\u001b[0m\n",
            "\u001b[?25hRequirement already satisfied: anyio<5,>=3.4.0 in /usr/local/lib/python3.9/dist-packages (from starlette<0.27.0,>=0.26.1->fastapi) (3.6.2)\n",
            "Requirement already satisfied: idna>=2.8 in /usr/local/lib/python3.9/dist-packages (from anyio<5,>=3.4.0->starlette<0.27.0,>=0.26.1->fastapi) (3.4)\n",
            "Requirement already satisfied: sniffio>=1.1 in /usr/local/lib/python3.9/dist-packages (from anyio<5,>=3.4.0->starlette<0.27.0,>=0.26.1->fastapi) (1.3.0)\n",
            "Installing collected packages: h11, dnspython, uvicorn, starlette, pymongo, fastapi\n",
            "Successfully installed dnspython-2.3.0 fastapi-0.95.0 h11-0.14.0 pymongo-4.3.3 starlette-0.26.1 uvicorn-0.21.1\n"
          ]
        }
      ],
      "source": [
        "!pip install fastapi uvicorn pydantic pymongo\n"
      ]
    },
    {
      "cell_type": "markdown",
      "source": [
        "Then, you can create a file called app.py with the following code:\n",
        "\n"
      ],
      "metadata": {
        "id": "pES_JFUMBihe"
      }
    },
    {
      "cell_type": "code",
      "source": [
        "import tensorflow_hub as hub\n",
        "import tensorflow as tf\n",
        "from fastapi import FastAPI\n",
        "from pydantic import BaseModel\n",
        "import pymongo"
      ],
      "metadata": {
        "id": "yswci2UsBbar"
      },
      "execution_count": 3,
      "outputs": []
    },
    {
      "cell_type": "code",
      "source": [
        "# Define the FastAPI app\n",
        "app = FastAPI()\n",
        "\n",
        "# Define the input data model\n",
        "class InputData(BaseModel):\n",
        "    text: str\n",
        "\n",
        "# Define the output data model\n",
        "class OutputData(BaseModel):\n",
        "    intent: str"
      ],
      "metadata": {
        "id": "RC1d-OlDBr1r"
      },
      "execution_count": null,
      "outputs": []
    },
    {
      "cell_type": "code",
      "source": [
        "# Load the Universal Sentence Encoder model\n",
        "model_url = \"https://tfhub.dev/google/universal-sentence-encoder-multilingual/3\"\n",
        "model = hub.load(model_url)"
      ],
      "metadata": {
        "id": "Bksuwl4EB0QI"
      },
      "execution_count": null,
      "outputs": []
    },
    {
      "cell_type": "code",
      "source": [
        "# Define the intent classes\n",
        "intent_classes = ['greeting', 'goodbye', 'question', 'statement']"
      ],
      "metadata": {
        "id": "oCUps75VB8C9"
      },
      "execution_count": null,
      "outputs": []
    },
    {
      "cell_type": "code",
      "source": [
        "# Connect to the MongoDB database\n",
        "client = pymongo.MongoClient(\"mongodb://localhost:27017/\")\n",
        "db = client[\"intent_data\"]\n",
        "intents_collection = db[\"intents\"]"
      ],
      "metadata": {
        "id": "k9YUdTuQCWGE"
      },
      "execution_count": null,
      "outputs": []
    },
    {
      "cell_type": "code",
      "source": [
        "# Define a function to classify a sentence based on its embedding\n",
        "def classify_intent(sentence_embedding):\n",
        "    # Define the classifier model\n",
        "    classifier_model = tf.keras.models.Sequential([\n",
        "        tf.keras.layers.Input(shape=(512,)),\n",
        "        tf.keras.layers.Dense(256, activation='relu'),\n",
        "        tf.keras.layers.Dropout(0.5),\n",
        "        tf.keras.layers.Dense(len(intent_classes), activation='softmax')\n",
        "    ])\n",
        "    classifier_model.compile(loss='categorical_crossentropy', optimizer='adam', metrics=['accuracy'])\n"
      ],
      "metadata": {
        "id": "zdkL-1MiCioR"
      },
      "execution_count": null,
      "outputs": []
    },
    {
      "cell_type": "code",
      "source": [
        "  # Retrieve the intent data from the MongoDB database\n",
        "    intents = intents_collection.find()\n",
        "    sentences = []\n",
        "    intent_labels = []\n",
        "    for intent in intents:\n",
        "        sentences.append(intent['text'])\n",
        "        intent_label = intent_classes.index(intent['intent'])\n",
        "        intent_labels.append(intent_label)"
      ],
      "metadata": {
        "id": "TUi2hxwyCjhK"
      },
      "execution_count": null,
      "outputs": []
    },
    {
      "cell_type": "code",
      "source": [
        "  # Encode the sentences using the Universal Sentence Encoder model\n",
        "    sentence_embeddings = model(sentences)\n",
        "\n",
        "    # Train the classifier model on the sentence embeddings and intent labels\n",
        "    intent_labels = tf.keras.utils.to_categorical(intent_labels)\n",
        "    classifier_model.fit(sentence_embeddings, intent_labels, epochs=50, verbose=0)\n",
        "\n",
        "    # Use the classifier model to predict the intent of the input sentence\n",
        "    intent_probabilities = classifier_model.predict(tf.reshape(sentence_embedding, (1, 512)))\n",
        "    predicted_intent_index = tf.argmax(intent_probabilities, axis=1).numpy()[0]\n",
        "    predicted_intent = intent_classes[predicted_intent_index]\n",
        "    return predicted_intent"
      ],
      "metadata": {
        "id": "V1nwa1s0CpxG"
      },
      "execution_count": null,
      "outputs": []
    },
    {
      "cell_type": "code",
      "source": [
        "# Define a route to classify input sentences\n",
        "@app.post(\"/classify_intent\", response_model=OutputData)\n",
        "def classify(input_data: InputData):\n",
        "    sentence_embedding = model([input_data.text])\n",
        "    predicted_intent = classify_intent(sentence_embedding)\n",
        "    return {\"intent\": predicted_intent}\n"
      ],
      "metadata": {
        "id": "D4ltXZh5Ct3N"
      },
      "execution_count": null,
      "outputs": []
    },
    {
      "cell_type": "markdown",
      "source": [
        "The above code defines a FastAPI app, a data model for the input and output data, loads the Universal Sentence Encoder model, connects to a MongoDB database, defines a function to classify the intent of input sentences using the database-stored intent data, and defines a route to classify input sentences and return the predicted intent."
      ],
      "metadata": {
        "id": "ctBSeeWTC6gm"
      }
    },
    {
      "cell_type": "markdown",
      "source": [
        "To run the microservice, you can use the following command:\n",
        "\n"
      ],
      "metadata": {
        "id": "tCP1SFFxC_5f"
      }
    },
    {
      "cell_type": "code",
      "source": [
        "uvicorn app:app --reload\n"
      ],
      "metadata": {
        "id": "8hz8fW75C9Rc"
      },
      "execution_count": null,
      "outputs": []
    },
    {
      "cell_type": "markdown",
      "source": [
        "This command starts the FastAPI app and reloads the server automatically whenever changes are made to the code. You can then send POST requests to the http://localhost:8000/classify_intent endpoint with a JSON payload containing a \"text\" field with the input sentence to classify"
      ],
      "metadata": {
        "id": "_zmHRWsyDKnm"
      }
    },
    {
      "cell_type": "code",
      "source": [],
      "metadata": {
        "id": "8Vn1qxpQDLNc"
      },
      "execution_count": null,
      "outputs": []
    }
  ]
}